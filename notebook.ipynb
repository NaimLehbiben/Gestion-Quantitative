{
 "cells": [
  {
   "cell_type": "markdown",
   "metadata": {},
   "source": [
    "## Import des données et pré-traitement"
   ]
  },
  {
   "cell_type": "code",
   "execution_count": null,
   "metadata": {},
   "outputs": [],
   "source": [
    "import pandas as pd\n",
    "from src.utility.descriptive_statistics import descriptive_statistics\n",
    "from src.graph.graph import plot_time_series\n",
    "\n",
    "df = pd.read_pickle('src/data/panel_data.pkl')\n",
    "df[\"index\"] = pd.to_datetime(df[\"index\"])\n",
    "\n",
    "outlier_dates = [pd.Timestamp('2001-09-11')]\n",
    "df = df[~df['index'].isin(outlier_dates)]\n",
    "\n",
    "df = df[(df['index'] >= '1988-01-01') & (df['index'] <= '2017-01-01')]\n",
    "\n",
    "for col in df.columns[1:]:\n",
    "    df[col] = pd.to_numeric(df[col], errors='coerce')\n",
    "df"
   ]
  },
  {
   "cell_type": "markdown",
   "metadata": {},
   "source": [
    "## Statistiques descriptives"
   ]
  },
  {
   "cell_type": "code",
   "execution_count": null,
   "metadata": {},
   "outputs": [],
   "source": [
    "import numpy as np\n",
    "\n",
    "original_stats, log_stats = descriptive_statistics(df[\"Maturity 1\"])\n",
    "\n",
    "stats_keys = ['Mean', 'Median', 'Minimum', 'Maximum', 'Std deviation', 'Skewness', 'Kurtosis', 'Autocorrelation', 'ADF test p-value (10 lags)', 'Nb obs']\n",
    "df_combined_stats = pd.DataFrame(index=stats_keys, columns=['Prices (c/bu)', 'Log returns'])\n",
    "\n",
    "for key in stats_keys:\n",
    "    df_combined_stats.loc[key, 'Prices (c/bu)'] = original_stats.get(key, np.nan)\n",
    "    log_key = 'Log ' + key  \n",
    "    df_combined_stats.loc[key, 'Log returns'] = log_stats.get(log_key, np.nan)\n",
    "df_combined_stats"
   ]
  },
  {
   "cell_type": "markdown",
   "metadata": {},
   "source": [
    "## Graphiques\n"
   ]
  },
  {
   "cell_type": "code",
   "execution_count": null,
   "metadata": {},
   "outputs": [],
   "source": [
    "import matplotlib.pyplot as plt\n",
    "\n",
    "df.set_index('index', inplace=True)\n",
    "\n",
    "target_date = '2004-06-17'\n",
    "\n",
    "prix_17_06_2004 = df.loc[target_date, ['Maturity 1', 'Maturity 2', 'Maturity 3', 'Maturity 4', 'Maturity 5']]\n",
    "\n",
    "plt.plot(prix_17_06_2004.values, marker='o', linestyle='-')\n",
    "plt.xlabel('Time to maturity (years)')\n",
    "plt.ylabel('Settlement Price (USD/contract)')\n",
    "plt.title(f'Term Structure of Corn Futures Prices, {target_date}')\n",
    "plt.grid()\n",
    "plt.show()\n"
   ]
  },
  {
   "cell_type": "code",
   "execution_count": null,
   "metadata": {},
   "outputs": [],
   "source": [
    "plot_time_series(df,[\"Maturity 1\"], \" Front-month settlement price (cents/bu)\", \"Dates\", \"cents/bu\")"
   ]
  },
  {
   "cell_type": "markdown",
   "metadata": {},
   "source": [
    "# Estimation du modele espace d'etat\n"
   ]
  },
  {
   "cell_type": "markdown",
   "metadata": {},
   "source": [
    "## Preparation des données"
   ]
  },
  {
   "cell_type": "code",
   "execution_count": null,
   "metadata": {},
   "outputs": [],
   "source": [
    "import pandas as pd\n",
    "import numpy as np\n",
    "from src.utility.date import get_t, get_T\n",
    "\n",
    "df.index = pd.to_datetime(df.index)\n",
    "df['t'] = df.index.map(get_t)\n",
    "df[['T1', 'T2', 'T3', 'T4', 'T5']] = pd.DataFrame(df.index.map(lambda x: pd.Series(get_T(x))).tolist(), index=df.index)\n",
    "for i in range(1, 6):\n",
    "    df[f'Maturity {i}'] = np.log(df[f'Maturity {i}'])\n",
    "df\n",
    "df = df[(df.index >= '1988-02-01') & (df.index <= '2015-01-01')]\n",
    "df"
   ]
  },
  {
   "cell_type": "markdown",
   "metadata": {},
   "source": [
    "## Estimation"
   ]
  },
  {
   "cell_type": "code",
   "execution_count": 6,
   "metadata": {},
   "outputs": [],
   "source": [
    "from scipy.optimize import minimize\n",
    "from src.model.kalman import KalmanModel\n",
    "from src.utility.constant import mu, kappa, sigma1, sigma2, rho, lambdaz\n",
    "from tqdm import tqdm\n",
    "\n",
    "def objective(params, observations, times, maturities, n_factors):\n",
    "    \"\"\"Objective function for Kalman Model optimization.\"\"\"\n",
    "    param_keys = ['mu', 'sigma1', 'lambda1', 'kappa2', 'sigma2', 'lambda2', 'rho12',\n",
    "                  'kappa3', 'sigma3', 'lambda3', 'rho13', 'rho23',\n",
    "                  'kappa4', 'sigma4', 'lambda4', 'rho14', 'rho24', 'rho34']\n",
    "    model_params = {\n",
    "        key: params[i] for i, key in enumerate(param_keys[:3 + 4 * (n_factors - 1)])\n",
    "    }\n",
    "    model_params['maturities'] = maturities\n",
    "    model_params['current_time'] = times\n",
    "\n",
    "    model = KalmanModel(n_factors=n_factors, params=model_params)\n",
    "    return model.compute_likelihood(observations, times, maturities)\n",
    "\n",
    "observations = df.iloc[:, 0:5].values\n",
    "times = df[\"t\"].values\n",
    "maturities = df.iloc[:, 6:11].values\n",
    "\n",
    "initial_guesses = {\n",
    "    1: [mu, sigma1, lambdaz],\n",
    "    2: [mu, sigma1, lambdaz, kappa, sigma2, lambdaz, rho],\n",
    "    3: [mu, sigma1, lambdaz, kappa, sigma2, lambdaz, rho, kappa, sigma2, lambdaz, rho, rho],\n",
    "    4: [mu, sigma1, lambdaz, kappa, sigma2, lambdaz, rho, kappa, sigma2, lambdaz, rho, rho, kappa, sigma2, lambdaz, rho, rho, rho]\n",
    "}\n",
    "\n",
    "results = {}\n",
    "for n_factors in tqdm(range(1, 5)):\n",
    "    result = minimize(\n",
    "        objective,\n",
    "        initial_guesses[n_factors],\n",
    "        args=(observations, times, maturities, n_factors),\n",
    "        method='BFGS',\n",
    "        options={'maxiter': 10}    \n",
    "    )\n",
    "    results[n_factors] = result\n",
    "    print(f\"Optimized parameters for {n_factors} factors:\", result.x)\n"
   ]
  }
 ],
 "metadata": {
  "kernelspec": {
   "display_name": "Python 3",
   "language": "python",
   "name": "python3"
  },
  "language_info": {
   "codemirror_mode": {
    "name": "ipython",
    "version": 3
   },
   "file_extension": ".py",
   "mimetype": "text/x-python",
   "name": "python",
   "nbconvert_exporter": "python",
   "pygments_lexer": "ipython3",
   "version": "3.12.0"
  }
 },
 "nbformat": 4,
 "nbformat_minor": 2
}
