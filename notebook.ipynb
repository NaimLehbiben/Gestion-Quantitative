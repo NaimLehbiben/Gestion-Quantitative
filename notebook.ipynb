{
 "cells": [
  {
   "cell_type": "code",
   "execution_count": 6,
   "metadata": {},
   "outputs": [
    {
     "name": "stdout",
     "output_type": "stream",
     "text": [
      "          index Maturity 1 Maturity 2 Maturity 3 Maturity 4 Maturity 5\n",
      "0    1988-01-04      187.5      193.5     198.25      200.0     202.75\n",
      "1    1988-01-05      187.5     193.25     197.25     198.25     200.75\n",
      "2    1988-01-06      191.0     195.75     199.75     201.75      204.5\n",
      "3    1988-01-07     192.75     198.75     202.75      204.5      208.5\n",
      "4    1988-01-08      192.5      198.0      202.0      203.5     207.25\n",
      "...         ...        ...        ...        ...        ...        ...\n",
      "9051 2023-12-22      473.0     485.75      495.5     498.25      504.5\n",
      "9052 2023-12-26     480.25     492.25      501.5      503.5      509.5\n",
      "9053 2023-12-27      476.5      488.5      498.0     500.25      506.5\n",
      "9054 2023-12-28     474.25      486.5      496.0      498.5     504.75\n",
      "9055 2023-12-29     471.25      484.0      494.0      497.0      503.5\n",
      "\n",
      "[9076 rows x 6 columns]\n"
     ]
    }
   ],
   "source": [
    "import pandas as pd\n",
    "from matplotlib import pyplot as plt\n",
    "\n",
    "\n",
    "panel_data_df = pd.read_pickle('data/panel_data.pkl')\n",
    "print(panel_data_df)\n",
    "\n"
   ]
  }
 ],
 "metadata": {
  "kernelspec": {
   "display_name": "Python 3",
   "language": "python",
   "name": "python3"
  },
  "language_info": {
   "codemirror_mode": {
    "name": "ipython",
    "version": 3
   },
   "file_extension": ".py",
   "mimetype": "text/x-python",
   "name": "python",
   "nbconvert_exporter": "python",
   "pygments_lexer": "ipython3",
   "version": "3.11.8"
  }
 },
 "nbformat": 4,
 "nbformat_minor": 2
}
